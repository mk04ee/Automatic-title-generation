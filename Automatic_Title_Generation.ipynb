{
  "cells": [
    {
      "cell_type": "code",
      "execution_count": 1,
      "metadata": {
        "colab": {
          "base_uri": "https://localhost:8080/"
        },
        "id": "rYfbIU1ddKxd",
        "outputId": "0ee79b8e-6bb9-4f05-8547-bb38ebcdc6f1"
      },
      "outputs": [
        {
          "name": "stderr",
          "output_type": "stream",
          "text": [
            "[nltk_data] Error loading wordnet: <urlopen error [Errno 2] No such\n",
            "[nltk_data]     file or directory>\n"
          ]
        }
      ],
      "source": [
        "import pandas as pd\n",
        "import nltk\n",
        "import pickle\n",
        "from statistics import mode\n",
        "import numpy as np\n",
        "from nltk import word_tokenize\n",
        "from nltk.stem import LancasterStemmer\n",
        "nltk.download('wordnet')\n",
        "nltk.download('stopwords')\n",
        "nltk.download('punkt')\n",
        "from nltk.corpus import stopwords\n",
        "from tensorflow.keras.preprocessing.text import Tokenizer\n",
        "from tensorflow.keras.models import Model\n",
        "from tensorflow.keras import models\n",
        "from tensorflow.keras import regularizers\n",
        "from tensorflow.keras import backend as K\n",
        "from tensorflow.keras.utils import plot_model\n",
        "from tensorflow.keras.preprocessing.sequence import pad_sequences\n",
        "from tensorflow.keras.preprocessing.text import Tokenizer \n",
        "from tensorflow.keras.layers import Input,LSTM,Embedding,Dense,Concatenate,Attention\n",
        "from sklearn.model_selection import train_test_split, KFold\n",
        "from keras.callbacks import EarlyStopping, ModelCheckpoint"
      ]
    },
    {
      "cell_type": "code",
      "execution_count": null,
      "metadata": {
        "colab": {
          "base_uri": "https://localhost:8080/"
        },
        "id": "L2QxdML5nMWy",
        "outputId": "d05a7c8e-65eb-4993-b175-fe5add4e94af"
      },
      "outputs": [
        {
          "name": "stdout",
          "output_type": "stream",
          "text": [
            "Mounted at /content/drive\n"
          ]
        }
      ],
      "source": [
        "# from google.colab import drive\n",
        "# # drive.mount('/content/drive')"
      ]
    },
    {
      "cell_type": "code",
      "execution_count": null,
      "metadata": {
        "id": "f5rmtszU12rz"
      },
      "outputs": [],
      "source": [
        "text = pd.read_csv(\"E:\\7th sem\\Minor Project\\code\\Datasets\\dataset.csv\")"
      ]
    },
    {
      "cell_type": "code",
      "execution_count": null,
      "metadata": {
        "id": "hRB9-T1QMHIi"
      },
      "outputs": [],
      "source": [
        "input_data = text['abstract']\n",
        "target_data = text['title']"
      ]
    },
    {
      "cell_type": "code",
      "execution_count": null,
      "metadata": {
        "id": "VHw11nCzAiwO"
      },
      "outputs": [],
      "source": [
        "def clean_data(text,src):\n",
        "  stemm=LancasterStemmer() \n",
        "  stop_words = stopwords.words('english')\n",
        "  text =text.replace(r'[^\\w\\s]+', '')  \n",
        "  text= text.replace(r'[@_!#$%^&*()<>?/\\|}{~:]', '') \n",
        "  text= text.replace(r\"<(\\\"[^\\\"]*\\\"|'[^']*'|[^'\\\">])*>\", '')   \n",
        "  words=word_tokenize(text.lower())  \n",
        "  if src == \"inputs\":\n",
        "   words= [stemm.stem(w) for w in words if w not in stop_words]\n",
        "  else:\n",
        "    words= [w for w in words if w not in stop_words]\n",
        "  return words"
      ]
    },
    {
      "cell_type": "code",
      "execution_count": null,
      "metadata": {
        "id": "nbnRuqL982R5"
      },
      "outputs": [],
      "source": [
        "input_texts = []\n",
        "target_texts = []\n",
        "input_words = []\n",
        "target_words = []\n",
        "for in_text,tr_text in zip(input_data,target_data):\n",
        "    in_words = clean_data(in_text,\"inputs\")\n",
        "    input_texts += [\" \".join(in_words)]\n",
        "    input_words += in_words\n",
        "    tr_words = clean_data(\"sos \"+tr_text+\" eos\",\"targets\")\n",
        "    target_texts += [\" \".join(tr_words)]\n",
        "    target_words += tr_words\n",
        "\n",
        "    \n",
        "    "
      ]
    },
    {
      "cell_type": "code",
      "execution_count": null,
      "metadata": {
        "colab": {
          "base_uri": "https://localhost:8080/"
        },
        "id": "7V_gcJZ7H-_b",
        "outputId": "866e9468-fa3f-4c60-8bd3-817567718934"
      },
      "outputs": [
        {
          "name": "stdout",
          "output_type": "stream",
          "text": [
            "69844 24247 456 68\n"
          ]
        }
      ],
      "source": [
        "input_words = sorted(list(set(input_words)))\n",
        "target_words = sorted(list(set(target_words)))\n",
        "num_in_len = len(input_words)\n",
        "num_tr_len = len(target_words)\n",
        "\n",
        "max_input_len = mode([len(i) for i in input_texts])\n",
        "max_target_len = mode([len(i) for i in target_texts])\n",
        "\n",
        "print(num_in_len,num_tr_len,max_input_len, max_target_len)"
      ]
    },
    {
      "cell_type": "code",
      "execution_count": null,
      "metadata": {
        "id": "1H72YEivdFoU"
      },
      "outputs": [],
      "source": [
        "def get_sequence_of_token(input_data,max_length):\n",
        "  tokenizer = Tokenizer()  \n",
        "  tokenizer.fit_on_texts(input_data)  \n",
        "  input_data = tokenizer.texts_to_sequences(input_data) \n",
        "  padded_data = pad_sequences(input_data,  maxlen=max_length, padding = 'post') \n",
        "  return padded_data"
      ]
    },
    {
      "cell_type": "code",
      "execution_count": null,
      "metadata": {
        "id": "zCJ_n_Fb82R9"
      },
      "outputs": [],
      "source": [
        "K.clear_session()\n",
        "latent_dim = 256\n",
        "\n",
        "en_input = Input(shape = (max_input_len))\n",
        "en_embedding  = Embedding(num_in_len+1, latent_dim)(en_input)\n"
      ]
    },
    {
      "cell_type": "code",
      "execution_count": null,
      "metadata": {
        "id": "GYmCDRrw82R-"
      },
      "outputs": [],
      "source": [
        "#encoder\n",
        "en_lstm1= LSTM(latent_dim, return_state=True, return_sequences=True) \n",
        "en_output1, state_h1, state_c1 = en_lstm1(en_embedding)\n",
        "\n",
        "en_lstm2= LSTM(latent_dim, return_state=True, return_sequences=True) \n",
        "en_output2, state_h2, state_c2= en_lstm2(en_output1) \n",
        "\n",
        "en_lstm3= LSTM(latent_dim, return_state=True, return_sequences=True)\n",
        "en_output3 , state_h3 , state_c3= en_lstm3(en_output2)\n",
        "\n",
        "\n",
        "\n",
        "en_states= [state_h3, state_c3]"
      ]
    },
    {
      "cell_type": "code",
      "execution_count": null,
      "metadata": {
        "id": "GDiIWGnu_82e"
      },
      "outputs": [],
      "source": [
        "#decoder\n",
        "dec_inputs = Input(shape=(None,)) \n",
        "dec_emb_layer = Embedding(num_tr_len+1, latent_dim) \n",
        "dec_embedding = dec_emb_layer(dec_inputs)\n",
        "\n",
        "dec_lstm = LSTM(latent_dim, return_sequences=True, return_state=True)\n",
        "dec_outputs, *_ = dec_lstm(dec_embedding,initial_state=en_states)"
      ]
    },
    {
      "cell_type": "code",
      "execution_count": null,
      "metadata": {
        "id": "kgnAPzCL82R_"
      },
      "outputs": [],
      "source": [
        "#attention\n",
        "attention =Attention()\n",
        "attn_out = attention([dec_outputs,en_output3]) \n",
        "\n",
        "merge=Concatenate(axis=-1, name='concat_layer1')([dec_outputs,attn_out])"
      ]
    },
    {
      "cell_type": "code",
      "execution_count": null,
      "metadata": {
        "id": "w5AaRP8f82R_"
      },
      "outputs": [],
      "source": [
        "dec_dense = Dense(num_tr_len+1, activation='softmax') \n",
        "dec_outputs = dec_dense(merge)"
      ]
    },
    {
      "cell_type": "code",
      "execution_count": null,
      "metadata": {
        "colab": {
          "base_uri": "https://localhost:8080/",
          "height": 1000
        },
        "id": "OYLkTjDN82SA",
        "outputId": "6030419c-0216-422d-f6e5-0121c0f4a403"
      },
      "outputs": [
        {
          "name": "stdout",
          "output_type": "stream",
          "text": [
            "Model: \"model\"\n",
            "__________________________________________________________________________________________________\n",
            " Layer (type)                   Output Shape         Param #     Connected to                     \n",
            "==================================================================================================\n",
            " input_1 (InputLayer)           [(None, 456)]        0           []                               \n",
            "                                                                                                  \n",
            " embedding (Embedding)          (None, 456, 256)     17880320    ['input_1[0][0]']                \n",
            "                                                                                                  \n",
            " lstm (LSTM)                    [(None, 456, 256),   525312      ['embedding[0][0]']              \n",
            "                                 (None, 256),                                                     \n",
            "                                 (None, 256)]                                                     \n",
            "                                                                                                  \n",
            " input_2 (InputLayer)           [(None, None)]       0           []                               \n",
            "                                                                                                  \n",
            " lstm_1 (LSTM)                  [(None, 456, 256),   525312      ['lstm[0][0]']                   \n",
            "                                 (None, 256),                                                     \n",
            "                                 (None, 256)]                                                     \n",
            "                                                                                                  \n",
            " embedding_1 (Embedding)        (None, None, 256)    6207488     ['input_2[0][0]']                \n",
            "                                                                                                  \n",
            " lstm_2 (LSTM)                  [(None, 456, 256),   525312      ['lstm_1[0][0]']                 \n",
            "                                 (None, 256),                                                     \n",
            "                                 (None, 256)]                                                     \n",
            "                                                                                                  \n",
            " lstm_3 (LSTM)                  [(None, None, 256),  525312      ['embedding_1[0][0]',            \n",
            "                                 (None, 256),                     'lstm_2[0][1]',                 \n",
            "                                 (None, 256)]                     'lstm_2[0][2]']                 \n",
            "                                                                                                  \n",
            " attention (Attention)          (None, None, 256)    0           ['lstm_3[0][0]',                 \n",
            "                                                                  'lstm_2[0][0]']                 \n",
            "                                                                                                  \n",
            " concat_layer1 (Concatenate)    (None, None, 512)    0           ['lstm_3[0][0]',                 \n",
            "                                                                  'attention[0][0]']              \n",
            "                                                                                                  \n",
            " dense (Dense)                  (None, None, 24248)  12439224    ['concat_layer1[0][0]']          \n",
            "                                                                                                  \n",
            "==================================================================================================\n",
            "Total params: 38,628,280\n",
            "Trainable params: 38,628,280\n",
            "Non-trainable params: 0\n",
            "__________________________________________________________________________________________________\n"
          ]
        },
        {
          "data": {
            "image/png": "[encoded data removed]",
            "text/plain": [
              "<IPython.core.display.Image object>"
            ]
          },
          "execution_count": 14,
          "metadata": {},
          "output_type": "execute_result"
        }
      ],
      "source": [
        "model = Model([en_input, dec_inputs], dec_outputs) \n",
        "model.summary()\n",
        "plot_model(model, to_file='model_plot.png')"
      ]
    },
    {
      "cell_type": "code",
      "execution_count": null,
      "metadata": {
        "id": "DpQQ1NPL82SA"
      },
      "outputs": [],
      "source": [
        "model.compile(optimizer = \"rmsprop\",loss=\"sparse_categorical_crossentropy\", metrics=[\"accuracy\"] )"
      ]
    },
    {
      "cell_type": "code",
      "execution_count": null,
      "metadata": {
        "id": "ESiPjziaJMtH"
      },
      "outputs": [],
      "source": [
        "kfold = KFold(n_splits=10, shuffle=True)\n",
        "for train_index, test_index in kfold.split(input_data):\n",
        "  x_train, x_test, y_train, y_test = input_data[train_index], input_data[test_index],target_data[train_index],target_data[test_index]\n",
        "  en_input_data = get_sequence_of_token(x_train,max_input_len)\n",
        "  dec_data = get_sequence_of_token(y_train,max_target_len)\n",
        "  x_test_data = get_sequence_of_token(x_test,max_input_len)\n",
        "  y_test_data = get_sequence_of_token(y_test,max_target_len)\n",
        "  dec_input_data = dec_data[:,:-1]\n",
        "  dec_target_data = dec_data.reshape(len(dec_data),max_target_len,1)[:,1:]\n",
        "  y_test_input = y_test_data[:,:-1]\n",
        "  y_test_target= y_test_data.reshape(len(y_test_data),max_target_len,1)[:,1:]\n",
        "  model.fit([en_input_data, dec_input_data], dec_target_data,batch_size=128,validation_data=([x_test_data,y_test_input],y_test_target))\n",
        "model.save('/content/drive/MyDrive/Colab Notebooks/models/Title_Generation13.tf')"
      ]
    },
    {
      "cell_type": "code",
      "execution_count": null,
      "metadata": {
        "id": "ntq-kuW382SB"
      },
      "outputs": [],
      "source": [
        "from matplotlib import pyplot\n",
        "pyplot.plot(loss, label='train loss')\n",
        "pyplot.plot(val_loss, label='test loss')\n",
        "pyplot.legend()\n",
        "pyplot.show()"
      ]
    },
    {
      "cell_type": "code",
      "execution_count": null,
      "metadata": {
        "id": "PahmZNWK82SC"
      },
      "outputs": [],
      "source": [
        "pyplot.plot(accuracy, label='train acc')\n",
        "pyplot.plot(val_accuracy, label='test acc')\n",
        "pyplot.legend()\n",
        "pyplot.show()"
      ]
    },
    {
      "cell_type": "code",
      "execution_count": null,
      "metadata": {
        "id": "F-hueti1PHsi"
      },
      "outputs": [],
      "source": [
        "model = models.load_model(\"/content/drive/MyDrive/Colab Notebooks/models/Title_Generation13.tf\")"
      ]
    },
    {
      "cell_type": "code",
      "execution_count": null,
      "metadata": {
        "id": "j2qTV1ym82SC"
      },
      "outputs": [],
      "source": [
        "\n",
        "en_outputs,state_h_enc,state_c_enc = model.layers[6].output\n",
        "en_states=[state_h_enc,state_c_enc]\n",
        "\n",
        "en_model = Model(model.input[0],[en_outputs]+en_states)"
      ]
    },
    {
      "cell_type": "code",
      "execution_count": null,
      "metadata": {
        "id": "ifwqNCDe82SD"
      },
      "outputs": [],
      "source": [
        "dec_state_input_h = Input(shape=(latent_dim,))\n",
        "dec_state_input_c = Input(shape=(latent_dim,))\n",
        "dec_hidden_state_input = Input(shape=(max_input_len,latent_dim))\n",
        " \n",
        "dec_inputs = model.input[1]\n",
        "dec_emb_layer = model.layers[5]\n",
        "dec_lstm = model.layers[7]\n",
        "dec_embedding= dec_emb_layer(dec_inputs)\n",
        " \n",
        "dec_outputs2, state_h2, state_c2 = dec_lstm(dec_embedding, initial_state=[dec_state_input_h,dec_state_input_c])"
      ]
    },
    {
      "cell_type": "code",
      "execution_count": null,
      "metadata": {
        "id": "stMFweou82SD"
      },
      "outputs": [],
      "source": [
        "attention = model.layers[8]\n",
        "attn_out2 = attention([dec_outputs2,dec_hidden_state_input])\n",
        " \n",
        "merge2 = Concatenate(axis=-1)([dec_outputs2, attn_out2])"
      ]
    },
    {
      "cell_type": "code",
      "execution_count": null,
      "metadata": {
        "id": "CocKtsyI82SE"
      },
      "outputs": [],
      "source": [
        "dec_dense = model.layers[10]\n",
        "dec_outputs2 = dec_dense(merge2)\n",
        "\n",
        "dec_model = Model(\n",
        "[dec_inputs] + [dec_hidden_state_input,dec_state_input_h,dec_state_input_c],\n",
        "[dec_outputs2] + [state_h2, state_c2])"
      ]
    },
    {
      "cell_type": "code",
      "execution_count": null,
      "metadata": {
        "id": "SieEY7vsdRGf"
      },
      "outputs": [],
      "source": [
        "in_tokenizer = Tokenizer()\n",
        "tr_tokenizer = Tokenizer()\n",
        "in_tokenizer.fit_on_texts(input_data)\n",
        "tr_tokenizer.fit_on_texts(target_data)\n",
        "reverse_target_word_index = tr_tokenizer.index_word\n",
        "reverse_source_word_index = in_tokenizer.index_word\n",
        "target_word_index = tr_tokenizer.word_index"
      ]
    },
    {
      "cell_type": "code",
      "execution_count": null,
      "metadata": {
        "id": "ZP8EsDUCdULk"
      },
      "outputs": [],
      "source": [
        "def decode_sequence(input_seq):\n",
        "    en_out, en_h, en_c = en_model.predict(input_seq)\n",
        "    target_seq = np.zeros((1, 1))\n",
        "    target_seq[0, 0] = target_word_index['sos']\n",
        "    stop_condition = True\n",
        "    decoded_sentence = \"\"\n",
        "    while stop_condition:\n",
        "        output_words, dec_h, dec_c = dec_model.predict([target_seq] + [en_out, en_h, en_c])\n",
        "        word_index = np.argmax(output_words[0,-1:])\n",
        "        text_word = reverse_target_word_index[word_index]\n",
        "        decoded_sentence += text_word + \" \"       \n",
        "        if text_word == \"eos\" or len(decoded_sentence.split()) >= max_target_len:\n",
        "            stop_condition = False       \n",
        "        target_seq = np.zeros((1, 1))\n",
        "        target_seq[0, 0] = word_index\n",
        "        en_h, en_c = dec_h, dec_c   \n",
        "    return decoded_sentence"
      ]
    },
    {
      "cell_type": "code",
      "execution_count": null,
      "metadata": {
        "colab": {
          "base_uri": "https://localhost:8080/"
        },
        "id": "I_tISCdsdWfn",
        "outputId": "62bc3f3f-aef6-48c0-d4a3-b7b9f1df7279"
      },
      "outputs": [],
      "source": [
        "inp_abstract = input(\"Enter : \")\n",
        "print(\"Abstract :\",inp_abstract)\n",
        "inp_abstract = clean_data(inp_abstract,\"inputs\")\n",
        "inp_abstract = ' '.join(inp_abstract)\n",
        "inp_x= in_tokenizer.texts_to_sequences([inp_abstract]) \n",
        "inp_x= pad_sequences(inp_x,  maxlen=max_input_len, padding='post') \n",
        "title=decode_sequence(inp_x.reshape(1,max_input_len))\n",
        "if 'eos' in title :\n",
        "  title=title.replace('eos','')\n",
        "print(\"\\nPredicted Title:\",title);print(\"\\n\")"
      ]
    },
    {
      "cell_type": "code",
      "execution_count": null,
      "metadata": {
        "id": "97rcTBmWDSiB"
      },
      "outputs": [],
      "source": []
    }
  ],
  "metadata": {
    "colab": {
      "provenance": []
    },
    "kernelspec": {
      "display_name": "Python 3.10.4 64-bit",
      "language": "python",
      "name": "python3"
    },
    "language_info": {
      "codemirror_mode": {
        "name": "ipython",
        "version": 3
      },
      "file_extension": ".py",
      "mimetype": "text/x-python",
      "name": "python",
      "nbconvert_exporter": "python",
      "pygments_lexer": "ipython3",
      "version": "3.10.4"
    },
    "vscode": {
      "interpreter": {
        "hash": "081cda3a381e2dffbe717e49b0662e21662d794393f989db200535b05b9ea999"
      }
    }
  },
  "nbformat": 4,
  "nbformat_minor": 0
}
